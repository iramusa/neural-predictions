{
 "cells": [
  {
   "cell_type": "code",
   "execution_count": 1,
   "metadata": {
    "collapsed": false
   },
   "outputs": [
    {
     "name": "stdout",
     "output_type": "stream",
     "text": [
      "/home/ira/code/projects/neural-predictions\n"
     ]
    },
    {
     "name": "stderr",
     "output_type": "stream",
     "text": [
      "Using TensorFlow backend.\n"
     ]
    }
   ],
   "source": [
    "%cd ~/code/projects/neural-predictions/\n",
    "\n",
    "%matplotlib inline\n",
    "from simple_container import DataContainer\n",
    "from matplotlib import pyplot as plt\n",
    "from architecture import MultiNetwork\n",
    "import numpy as np"
   ]
  },
  {
   "cell_type": "code",
   "execution_count": 2,
   "metadata": {
    "collapsed": false
   },
   "outputs": [
    {
     "name": "stdout",
     "output_type": "stream",
     "text": [
      "Building:  <class 'keras.layers.convolutional.Convolution2D'> [8, 3, 3] {'activation': 'relu', 'init': 'glorot_normal', 'subsample': (2, 2), 'border_mode': 'same'}\n",
      "Building:  <class 'keras.layers.normalization.BatchNormalization'> [] {'mode': 2}\n",
      "Building:  <class 'keras.layers.convolutional.Convolution2D'> [8, 3, 3] {'activation': 'relu', 'init': 'glorot_normal', 'subsample': (2, 2), 'border_mode': 'same'}\n",
      "Building:  <class 'keras.layers.core.Flatten'> [] {}\n",
      "Building:  <class 'keras.layers.normalization.BatchNormalization'> [] {'mode': 2}\n",
      "Building:  <class 'keras.layers.core.Dense'> [128] {'activation': 'relu', 'init': 'uniform'}\n",
      "____________________________________________________________________________________________________\n",
      "Layer (type)                     Output Shape          Param #     Connected to                     \n",
      "====================================================================================================\n",
      "input_1 (InputLayer)             (None, 28, 28, 1)     0                                            \n",
      "____________________________________________________________________________________________________\n",
      "convolution2d_1 (Convolution2D)  (None, 14, 14, 8)     80          input_1[0][0]                    \n",
      "____________________________________________________________________________________________________\n",
      "batchnormalization_1 (BatchNorma (None, 14, 14, 8)     32          convolution2d_1[0][0]            \n",
      "____________________________________________________________________________________________________\n",
      "convolution2d_2 (Convolution2D)  (None, 7, 7, 8)       584         batchnormalization_1[0][0]       \n",
      "____________________________________________________________________________________________________\n",
      "flatten_1 (Flatten)              (None, 392)           0           convolution2d_2[0][0]            \n",
      "____________________________________________________________________________________________________\n",
      "batchnormalization_2 (BatchNorma (None, 392)           1568        flatten_1[0][0]                  \n",
      "____________________________________________________________________________________________________\n",
      "dense_1 (Dense)                  (None, 128)           50304       batchnormalization_2[0][0]       \n",
      "====================================================================================================\n",
      "Total params: 52,568\n",
      "Trainable params: 51,768\n",
      "Non-trainable params: 800\n",
      "____________________________________________________________________________________________________\n",
      "test data shape: (1, 28, 28, 1)\n",
      "Building:  <class 'keras.layers.normalization.BatchNormalization'> [] {'mode': 2}\n",
      "Building:  <class 'keras.layers.core.Dense'> [392] {'init': 'glorot_normal', 'activation': 'relu'}\n",
      "Building:  <class 'keras.layers.normalization.BatchNormalization'> [] {'mode': 2}\n",
      "Building:  <class 'keras.layers.core.Reshape'> [(7, 7, 8)] {}\n",
      "Building:  <class 'keras.layers.convolutional.UpSampling2D'> [(2, 2)] {}\n",
      "Building:  <class 'keras.layers.convolutional.Convolution2D'> [8, 3, 3] {'init': 'glorot_normal', 'activation': 'relu', 'border_mode': 'same'}\n",
      "Building:  <class 'keras.layers.normalization.BatchNormalization'> [] {'mode': 2}\n",
      "Building:  <class 'keras.layers.convolutional.UpSampling2D'> [(2, 2)] {}\n",
      "Building:  <class 'keras.layers.convolutional.Convolution2D'> [1, 3, 3] {'init': 'glorot_normal', 'activation': 'sigmoid', 'border_mode': 'same'}\n",
      "____________________________________________________________________________________________________\n",
      "Layer (type)                     Output Shape          Param #     Connected to                     \n",
      "====================================================================================================\n",
      "input_2 (InputLayer)             (None, 128)           0                                            \n",
      "____________________________________________________________________________________________________\n",
      "batchnormalization_3 (BatchNorma (None, 128)           512         input_2[0][0]                    \n",
      "____________________________________________________________________________________________________\n",
      "dense_2 (Dense)                  (None, 392)           50568       batchnormalization_3[0][0]       \n",
      "____________________________________________________________________________________________________\n",
      "batchnormalization_4 (BatchNorma (None, 392)           1568        dense_2[0][0]                    \n",
      "____________________________________________________________________________________________________\n",
      "reshape_1 (Reshape)              (None, 7, 7, 8)       0           batchnormalization_4[0][0]       \n",
      "____________________________________________________________________________________________________\n",
      "upsampling2d_1 (UpSampling2D)    (None, 14, 14, 8)     0           reshape_1[0][0]                  \n",
      "____________________________________________________________________________________________________\n",
      "convolution2d_3 (Convolution2D)  (None, 14, 14, 8)     584         upsampling2d_1[0][0]             \n",
      "____________________________________________________________________________________________________\n",
      "batchnormalization_5 (BatchNorma (None, 14, 14, 8)     32          convolution2d_3[0][0]            \n",
      "____________________________________________________________________________________________________\n",
      "upsampling2d_2 (UpSampling2D)    (None, 28, 28, 8)     0           batchnormalization_5[0][0]       \n",
      "____________________________________________________________________________________________________\n",
      "convolution2d_4 (Convolution2D)  (None, 28, 28, 1)     73          upsampling2d_2[0][0]             \n",
      "====================================================================================================\n",
      "Total params: 53,337\n",
      "Trainable params: 52,281\n",
      "Non-trainable params: 1,056\n",
      "____________________________________________________________________________________________________\n",
      "test data shape: (1, 128)\n"
     ]
    }
   ],
   "source": [
    "net = MultiNetwork()"
   ]
  },
  {
   "cell_type": "code",
   "execution_count": null,
   "metadata": {
    "collapsed": true
   },
   "outputs": [],
   "source": []
  },
  {
   "cell_type": "code",
   "execution_count": null,
   "metadata": {
    "collapsed": true
   },
   "outputs": [],
   "source": []
  },
  {
   "cell_type": "code",
   "execution_count": null,
   "metadata": {
    "collapsed": true
   },
   "outputs": [],
   "source": []
  }
 ],
 "metadata": {
  "kernelspec": {
   "display_name": "Python 3",
   "language": "python",
   "name": "python3"
  },
  "language_info": {
   "codemirror_mode": {
    "name": "ipython",
    "version": 3
   },
   "file_extension": ".py",
   "mimetype": "text/x-python",
   "name": "python",
   "nbconvert_exporter": "python",
   "pygments_lexer": "ipython3",
   "version": "3.5.2"
  }
 },
 "nbformat": 4,
 "nbformat_minor": 2
}
